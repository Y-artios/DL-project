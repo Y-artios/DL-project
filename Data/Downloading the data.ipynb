{
 "cells": [
  {
   "cell_type": "code",
   "execution_count": 1,
   "id": "b0d83f05",
   "metadata": {},
   "outputs": [
    {
     "name": "stdout",
     "output_type": "stream",
     "text": [
      "--2022-12-28 16:44:39--  https://zenodo.org/record/6810792/files/hr_dataset.tar.gz?download=1\n",
      "Resolving zenodo.org (zenodo.org)... 188.185.124.72\n",
      "Connecting to zenodo.org (zenodo.org)|188.185.124.72|:443... connected.\n",
      "HTTP request sent, awaiting response... 200 OK\n",
      "Length: 41542117051 (39G) [application/octet-stream]\n",
      "Saving to: ‘./hr/hr.tar.gz’\n",
      "\n",
      "./hr/hr.tar.gz      100%[===================>]  38.69G   162MB/s    in 4m 3s   \n",
      "\n",
      "2022-12-28 16:48:43 (163 MB/s) - ‘./hr/hr.tar.gz’ saved [41542117051/41542117051]\n",
      "\n",
      "--2022-12-28 16:49:22--  https://zenodo.org/record/6810792/files/lr_dataset_l2a.tar.gz?download=1\n",
      "Resolving zenodo.org (zenodo.org)... 188.185.124.72\n",
      "Connecting to zenodo.org (zenodo.org)|188.185.124.72|:443... connected.\n",
      "HTTP request sent, awaiting response... 200 OK\n",
      "Length: 26764158267 (25G) [application/octet-stream]\n",
      "Saving to: ‘./lr/lr.tar.gz’\n",
      "\n",
      "./lr/lr.tar.gz      100%[===================>]  24.93G   153MB/s    in 2m 39s  \n",
      "\n",
      "2022-12-28 16:52:02 (161 MB/s) - ‘./lr/lr.tar.gz’ saved [26764158267/26764158267]\n",
      "\n"
     ]
    }
   ],
   "source": [
    "import os\n",
    "os.mkdir(\"dataset\")\n",
    "os.chdir(\"dataset\")\n",
    "os.mkdir(\"hr\")\n",
    "!wget -O ./hr/hr.tar.gz \"https://zenodo.org/record/6810792/files/hr_dataset.tar.gz?download=1\"\n",
    "os.mkdir(\"lr\")\n",
    "!wget -O ./lr/lr.tar.gz \"https://zenodo.org/record/6810792/files/lr_dataset_l2a.tar.gz?download=1\""
   ]
  },
  {
   "cell_type": "code",
   "execution_count": 2,
   "id": "f15ab68d",
   "metadata": {},
   "outputs": [],
   "source": [
    "import tarfile\n",
    "file = tarfile.open('./lr/lr.tar.gz')\n",
    "file.extractall('./lr')\n",
    "file.close()\n",
    "file = tarfile.open('./hr/hr.tar.gz')\n",
    "file.extractall('./hr')\n",
    "file.close()"
   ]
  },
  {
   "cell_type": "code",
   "execution_count": null,
   "id": "1f570892",
   "metadata": {},
   "outputs": [],
   "source": []
  }
 ],
 "metadata": {
  "kernelspec": {
   "display_name": "Python 3 (ipykernel)",
   "language": "python",
   "name": "python3"
  },
  "language_info": {
   "codemirror_mode": {
    "name": "ipython",
    "version": 3
   },
   "file_extension": ".py",
   "mimetype": "text/x-python",
   "name": "python",
   "nbconvert_exporter": "python",
   "pygments_lexer": "ipython3",
   "version": "3.10.8"
  }
 },
 "nbformat": 4,
 "nbformat_minor": 5
}
